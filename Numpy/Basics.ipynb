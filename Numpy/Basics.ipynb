{
 "cells": [
  {
   "cell_type": "code",
   "execution_count": 2,
   "id": "6d394b0f",
   "metadata": {},
   "outputs": [],
   "source": [
    "#NUMPY"
   ]
  },
  {
   "cell_type": "markdown",
   "id": "b38f8568",
   "metadata": {},
   "source": [
    "Installation & importing"
   ]
  },
  {
   "cell_type": "code",
   "execution_count": 3,
   "id": "57d3fa89",
   "metadata": {},
   "outputs": [],
   "source": [
    "#pip install numpy\n",
    "\n",
    "import numpy as np"
   ]
  },
  {
   "cell_type": "markdown",
   "id": "2e2a3a84",
   "metadata": {},
   "source": [
    "# 1. Array Creation"
   ]
  },
  {
   "cell_type": "code",
   "execution_count": 41,
   "id": "a8017931",
   "metadata": {},
   "outputs": [
    {
     "name": "stdout",
     "output_type": "stream",
     "text": [
      "Shape: (5,)\n",
      "Size: 5\n",
      "Dimensions: 1\n",
      "Data Type: float32\n",
      "Item size (bytes): 4\n",
      "Total bytes: 20\n",
      "Transpose:\n",
      " [1. 2. 3. 4. 5.]\n",
      "[[1 2 3]\n",
      " [4 5 6]]\n",
      "[0 2 4 6 8]\n",
      "[0.  0.1 0.2 0.3 0.4 0.5 0.6 0.7 0.8 0.9 1. ]\n",
      "[1. 2. 4. 8.]\n",
      "[[0. 0. 0. 0.]\n",
      " [0. 0. 0. 0.]\n",
      " [0. 0. 0. 0.]]\n",
      "[[1. 1.]\n",
      " [1. 1.]]\n",
      "[[2.12199579e-314 6.36598737e-314 1.06099790e-313]\n",
      " [1.48539705e-313 1.90979621e-313 2.33419537e-313]]\n",
      "[[7 7]\n",
      " [7 7]]\n",
      "[[1. 0. 0. 0.]\n",
      " [0. 1. 0. 0.]\n",
      " [0. 0. 1. 0.]\n",
      " [0. 0. 0. 1.]]\n"
     ]
    }
   ],
   "source": [
    "a=np.array([[1,2,3],[4,5,6]])\n",
    "print(\"Shape:\", arr.shape)\n",
    "print(\"Size:\", arr.size)\n",
    "print(\"Dimensions:\", arr.ndim)\n",
    "print(\"Data Type:\", arr.dtype)\n",
    "print(\"Item size (bytes):\", arr.itemsize)\n",
    "print(\"Total bytes:\", arr.nbytes)\n",
    "print(\"Transpose:\\n\", arr.T)\n",
    "\n",
    "a1=np.arange(0, 10, 2)\n",
    "a2=np.linspace(0,1,11) \n",
    "a3=np.logspace(0, 3, 4,base =2)\n",
    "a4=np.zeros((3,4))\n",
    "a5=np.ones((2,2))\n",
    "a6=np.empty((2,3))\n",
    "a7=np.full((2,2), 7)\n",
    "a8=np.eye(4)\n",
    "\n",
    "\n",
    "print(a)\n",
    "print(a1)\n",
    "print(a2)\n",
    "print(a3)\n",
    "print(a4)\n",
    "print(a5)\n",
    "print(a6)\n",
    "print(a7)\n",
    "print(a8)\n",
    "\n"
   ]
  },
  {
   "cell_type": "markdown",
   "id": "108d5cce",
   "metadata": {},
   "source": [
    "Reading Data with NumPy"
   ]
  },
  {
   "cell_type": "markdown",
   "id": "ab442c41",
   "metadata": {},
   "source": [
    "numpy.fromfile(file, dtype=float, count=-1, sep='', offset=0)\n",
    "\n",
    "numpy.loadtxt(fname, dtype=float, comments='#', delimiter=None,\n",
    "              converters=None, skiprows=0, usecols=None, unpack=False)\n",
    "\n",
    "data = np.loadtxt('data.csv', delimiter=',', usecols=(0, 2))\n",
    "\n",
    "arr = np.load('array.npy')   # load one array\n",
    "\n",
    "data = np.load('arrays.npz') # multiple arrays\n",
    "\n",
    "np.save('array.npy', arr)      # saves a single array\n",
    "\n",
    "np.savez('arrays.npz', a=arr1, b=arr2)  # saves multiple arrays\n",
    "\n"
   ]
  },
  {
   "cell_type": "markdown",
   "id": "e7171abd",
   "metadata": {},
   "source": [
    "dtypes (data types)"
   ]
  },
  {
   "cell_type": "markdown",
   "id": "fc657b0b",
   "metadata": {},
   "source": [
    "# 2. Data type"
   ]
  },
  {
   "cell_type": "code",
   "execution_count": 9,
   "id": "d6289a48",
   "metadata": {},
   "outputs": [
    {
     "data": {
      "text/plain": [
       "array([1., 2., 3.], dtype=float32)"
      ]
     },
     "execution_count": 9,
     "metadata": {},
     "output_type": "execute_result"
    }
   ],
   "source": [
    "x = np.array([1,2,3], dtype=np.int64)\n",
    "x.astype(np.float32)"
   ]
  },
  {
   "cell_type": "markdown",
   "id": "0d438e42",
   "metadata": {},
   "source": [
    "\n",
    "\n",
    "# 3. Indexing & Slicing"
   ]
  },
  {
   "cell_type": "code",
   "execution_count": 19,
   "id": "feda31e8",
   "metadata": {},
   "outputs": [
    {
     "name": "stdout",
     "output_type": "stream",
     "text": [
      "[[ 0  1  2  3]\n",
      " [ 4  5  6  7]\n",
      " [ 8  9 10 11]]\n",
      "[0 1 2 3]\n",
      "[[ 1  2]\n",
      " [ 5  6]\n",
      " [ 9 10]]\n",
      "[[999   2]\n",
      " [  5   6]\n",
      " [  9  10]]\n",
      "[[  0 999   2   3]\n",
      " [  4   5   6   7]\n",
      " [  8   9  10  11]]\n"
     ]
    },
    {
     "data": {
      "text/plain": [
       "array([ 0,  2,  4,  6,  8, 10])"
      ]
     },
     "execution_count": 19,
     "metadata": {},
     "output_type": "execute_result"
    }
   ],
   "source": [
    "a = np.arange(12).reshape(3,4)\n",
    "print(a)\n",
    "row = a[0]\n",
    "print(row)\n",
    "sub=a[:,1:3]\n",
    "print(sub)\n",
    "sub[0,0] = 999\n",
    "print(sub)\n",
    "\n",
    "a[[0,2], [1,3]]\n",
    "print(a)\n",
    "\n",
    "mask = a % 2 == 0\n",
    "a[mask] # 1D array of matched elements (copy)"
   ]
  },
  {
   "cell_type": "markdown",
   "id": "e0718148",
   "metadata": {},
   "source": [
    "# 4. Reshape & Transpose"
   ]
  },
  {
   "cell_type": "code",
   "execution_count": 28,
   "id": "f5d4088f",
   "metadata": {},
   "outputs": [
    {
     "name": "stdout",
     "output_type": "stream",
     "text": [
      "reshaped: [[ 0  1  2]\n",
      " [ 3  4  5]\n",
      " [ 6  7  8]\n",
      " [ 9 10 11]]\n",
      "Transposed: [[ 0  3  6  9]\n",
      " [ 1  4  7 10]\n",
      " [ 2  5  8 11]]\n",
      "flattened_view [ 0  1  2  3  4  5  6  7  8  9 10 11]\n",
      "flattened_copy [ 0  1  2  3  4  5  6  7  8  9 10 11]\n",
      "Swap axes: [[ 0  4  8]\n",
      " [ 1  5  9]\n",
      " [ 2  6 10]\n",
      " [ 3  7 11]]\n",
      "Swap axes: (4, 3)\n"
     ]
    }
   ],
   "source": [
    "reshaped = arr2d.reshape(4,3)\n",
    "flattened_view = arr2d.ravel()\n",
    "flattened_copy = arr2d.flatten()\n",
    "print('reshaped:',reshaped)\n",
    "print('Transposed:', reshaped.T)\n",
    "print(\"flattened_view\",flattened_view)\n",
    "print(\"flattened_copy\",flattened_copy)\n",
    "print('Swap axes:', np.swapaxes(arr2d,0,1))\n",
    "print('Swap axes:', np.swapaxes(arr2d,0,1).shape)"
   ]
  },
  {
   "cell_type": "markdown",
   "id": "1892ed35",
   "metadata": {},
   "source": [
    "# 5. Concatenation & Stacking"
   ]
  },
  {
   "cell_type": "code",
   "execution_count": 40,
   "id": "a361eca7",
   "metadata": {},
   "outputs": [
    {
     "name": "stdout",
     "output_type": "stream",
     "text": [
      "[[1 2]\n",
      " [3 4]]\n",
      "[[5 6]\n",
      " [7 8]]\n",
      "[[ 6  8]\n",
      " [10 12]]\n",
      "[[1 2]\n",
      " [3 4]\n",
      " [5 6]\n",
      " [7 8]]\n",
      "[[1 2]\n",
      " [3 4]\n",
      " [5 6]\n",
      " [7 8]]\n",
      "[[1 2 5 6]\n",
      " [3 4 7 8]]\n",
      "[[[1 2]\n",
      "  [3 4]]\n",
      "\n",
      " [[5 6]\n",
      "  [7 8]]]\n",
      "[array([[1, 2],\n",
      "       [3, 4]]), array([[5, 6],\n",
      "       [7, 8]])]\n"
     ]
    }
   ],
   "source": [
    "a = np.array([[1,2],[3,4]])\n",
    "b = np.array([[5,6],[7,8]])\n",
    "print(a)\n",
    "print(b)\n",
    "print(a+b)\n",
    "concat = np.concatenate([a,b], axis=0)\n",
    "print(concat)\n",
    "vstacked = np.vstack([a,b])\n",
    "print(vstacked)\n",
    "hstacked = np.hstack([a,b])\n",
    "print(hstacked)\n",
    "stacked = np.stack([a,b], axis=0)\n",
    "print(stacked)\n",
    "splits = np.split(concat,2,axis=0)\n",
    "print(splits)"
   ]
  },
  {
   "cell_type": "markdown",
   "id": "5985b25f",
   "metadata": {},
   "source": [
    "# 6. Mathematical Functions"
   ]
  },
  {
   "cell_type": "code",
   "execution_count": 43,
   "id": "e578ff96",
   "metadata": {},
   "outputs": [
    {
     "name": "stdout",
     "output_type": "stream",
     "text": [
      "Addition +2:\n",
      " [[3 4 5]\n",
      " [6 7 8]]\n",
      "Multiplication *3:\n",
      " [[ 3  6  9]\n",
      " [12 15 18]]\n",
      "Square:\n",
      " [[ 1  4  9]\n",
      " [16 25 36]]\n",
      "Square Root:\n",
      " [[1.         1.41421356 1.73205081]\n",
      " [2.         2.23606798 2.44948974]]\n",
      "Absolute:\n",
      " [[4 3 2]\n",
      " [1 0 1]]\n",
      "sin: [0.0000000e+00 1.0000000e+00 1.2246468e-16]\n",
      "cos: [ 1.000000e+00  6.123234e-17 -1.000000e+00]\n",
      "tan: [ 0.00000000e+00  1.63312394e+16 -1.22464680e-16]\n",
      "exp: [ 2.71828183  7.3890561  20.08553692]\n",
      "log: [0.         0.69314718 1.09861229]\n",
      "log10: [0.         0.30103    0.47712125]\n"
     ]
    }
   ],
   "source": [
    "arr=np.array([[1,2,3],[4,5,6]])\n",
    "print(\"Addition +2:\\n\", arr + 2)\n",
    "print(\"Multiplication *3:\\n\", arr * 3)\n",
    "print(\"Square:\\n\", np.square(arr))\n",
    "print(\"Square Root:\\n\", np.sqrt(arr))\n",
    "print(\"Absolute:\\n\", np.abs(arr - 5))\n",
    "\n",
    "# Trigonometric\n",
    "angles = np.array([0, np.pi/2, np.pi])\n",
    "print(\"sin:\", np.sin(angles))\n",
    "print(\"cos:\", np.cos(angles))\n",
    "print(\"tan:\", np.tan(angles))\n",
    "\n",
    "# Exponential / Log\n",
    "exp_arr = np.array([1, 2, 3])\n",
    "print(\"exp:\", np.exp(exp_arr))\n",
    "print(\"log:\", np.log(exp_arr))\n",
    "print(\"log10:\", np.log10(exp_arr))\n"
   ]
  },
  {
   "cell_type": "markdown",
   "id": "dbadbab7",
   "metadata": {},
   "source": [
    "# 6. Statistical Functions"
   ]
  },
  {
   "cell_type": "code",
   "execution_count": 55,
   "id": "45d8af6e",
   "metadata": {},
   "outputs": [
    {
     "name": "stdout",
     "output_type": "stream",
     "text": [
      "Sum: 45\n",
      "Mean: 5.0\n",
      "Median: 5.0\n",
      "Product 362880\n",
      "std Dev 2.581988897471611\n",
      "varaince 6.666666666666667\n",
      "Min 1\n",
      "Max 9\n",
      "Cumulative Sum: [ 1  3  6 10 15 21 28 36 45]\n",
      "Cumulative Product: [     1      2      6     24    120    720   5040  40320 362880]\n"
     ]
    }
   ],
   "source": [
    "arr =np.array([[1,2,3],[4,5,6],[7,8,9]])\n",
    "print(\"Sum:\", np.sum(arr))\n",
    "print(\"Mean:\",np.mean(arr))\n",
    "print(\"Median:\",np.median(arr))\n",
    "print(\"Product\",np.prod(arr))\n",
    "print(\"std Dev\",np.std(arr))\n",
    "print(\"varaince\",np.var(arr))\n",
    "print(\"Min\",np.min(arr))\n",
    "print(\"Max\",np.max(arr))\n",
    "print(\"Cumulative Sum:\", np.cumsum(arr))\n",
    "print(\"Cumulative Product:\", np.cumprod(arr))"
   ]
  },
  {
   "cell_type": "markdown",
   "id": "a67a4544",
   "metadata": {},
   "source": [
    "# 7. Linear Algebra"
   ]
  },
  {
   "cell_type": "code",
   "execution_count": 57,
   "id": "9a63a71c",
   "metadata": {},
   "outputs": [
    {
     "name": "stdout",
     "output_type": "stream",
     "text": [
      "Dot product:\n",
      " [[58 18]\n",
      " [18 10]]\n",
      "Matrix Multiplication:\n",
      " [[58 18]\n",
      " [18 10]]\n",
      "Determinant: -15.999999999999998\n",
      "Inverse:\n",
      " [[ 0.0625  0.1875]\n",
      " [ 0.1875 -0.4375]]\n",
      "Eigenvalues: [ 8. -2.]\n",
      "Eigenvectors:\n",
      " [[ 0.9486833  -0.31622777]\n",
      " [ 0.31622777  0.9486833 ]]\n",
      "Trace: 6\n"
     ]
    }
   ],
   "source": [
    "matrix = np.array([[7,3],[3,-1]])\n",
    "print(\"Dot product:\\n\", np.dot(matrix, matrix))\n",
    "print(\"Matrix Multiplication:\\n\", np.matmul(matrix, matrix))\n",
    "print(\"Determinant:\", np.linalg.det(matrix))\n",
    "print(\"Inverse:\\n\", np.linalg.inv(matrix))\n",
    "eigvals, eigvecs = np.linalg.eig(matrix)\n",
    "print(\"Eigenvalues:\", eigvals)\n",
    "print(\"Eigenvectors:\\n\", eigvecs)\n",
    "print(\"Trace:\", np.trace(matrix))\n"
   ]
  },
  {
   "cell_type": "markdown",
   "id": "7d905914",
   "metadata": {},
   "source": [
    "# 8. Set Operations"
   ]
  },
  {
   "cell_type": "code",
   "execution_count": 59,
   "id": "d3c9a202",
   "metadata": {},
   "outputs": [
    {
     "name": "stdout",
     "output_type": "stream",
     "text": [
      "Unique: [3 4 5 6]\n",
      "Intersection: [3 4]\n",
      "Union: [1 2 3 4 5 6]\n",
      "Difference: [1 2]\n",
      "Difference: [5 6]\n",
      "Symmetric difference: [1 2 5 6]\n"
     ]
    }
   ],
   "source": [
    "arr1 = np.array([1,2,3,4])\n",
    "arr2 = np.array([3,4,5,6])\n",
    "print(\"Unique:\", np.unique(arr2))\n",
    "print(\"Intersection:\", np.intersect1d(arr1, arr2))\n",
    "print(\"Union:\", np.union1d(arr1, arr2))\n",
    "print(\"Difference:\", np.setdiff1d(arr1, arr2))\n",
    "print(\"Difference:\", np.setdiff1d(arr2, arr1))\n",
    "print(\"Symmetric difference:\", np.setxor1d(arr1, arr2))\n"
   ]
  }
 ],
 "metadata": {
  "kernelspec": {
   "display_name": "Python 3",
   "language": "python",
   "name": "python3"
  },
  "language_info": {
   "codemirror_mode": {
    "name": "ipython",
    "version": 3
   },
   "file_extension": ".py",
   "mimetype": "text/x-python",
   "name": "python",
   "nbconvert_exporter": "python",
   "pygments_lexer": "ipython3",
   "version": "3.11.3"
  }
 },
 "nbformat": 4,
 "nbformat_minor": 5
}
