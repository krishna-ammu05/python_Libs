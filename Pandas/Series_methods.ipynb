{
 "cells": [
  {
   "cell_type": "code",
   "execution_count": 4,
   "id": "4e23acf5",
   "metadata": {},
   "outputs": [],
   "source": [
    "import numpy as np\n",
    "import pandas as pd"
   ]
  },
  {
   "cell_type": "markdown",
   "id": "2d9c5f18",
   "metadata": {},
   "source": [
    "#### Series Methods"
   ]
  },
  {
   "cell_type": "markdown",
   "id": "b4b1fadc",
   "metadata": {},
   "source": [
    "#### 1.head()\n",
    "This method returns first five values from the series"
   ]
  },
  {
   "cell_type": "code",
   "execution_count": 5,
   "id": "51b376a0",
   "metadata": {},
   "outputs": [
    {
     "name": "stdout",
     "output_type": "stream",
     "text": [
      "0    56\n",
      "1    45\n",
      "2    35\n",
      "3    41\n",
      "4    60\n",
      "5    57\n",
      "6    56\n",
      "7    56\n",
      "dtype: int64\n",
      "0    56\n",
      "1    45\n",
      "2    35\n",
      "3    41\n",
      "4    60\n",
      "dtype: int64\n"
     ]
    }
   ],
   "source": [
    "marks = [56, 45, 35, 41, 60, 57, 56, 56] \n",
    "s = pd.Series(marks) \n",
    "print(s) \n",
    "print(s.head())"
   ]
  },
  {
   "cell_type": "markdown",
   "id": "0616aaa1",
   "metadata": {},
   "source": [
    "#### 2. tail()\n",
    "->This method returns last five values from the series"
   ]
  },
  {
   "cell_type": "code",
   "execution_count": 8,
   "id": "13c2ae5c",
   "metadata": {},
   "outputs": [
    {
     "name": "stdout",
     "output_type": "stream",
     "text": [
      "3    41\n",
      "4    60\n",
      "5    57\n",
      "6    56\n",
      "7    56\n",
      "dtype: int64\n"
     ]
    }
   ],
   "source": [
    "print(s.tail())"
   ]
  },
  {
   "cell_type": "markdown",
   "id": "1fe1d043",
   "metadata": {},
   "source": [
    "#### 3.sum()\n",
    " This method returns the sum of all values."
   ]
  },
  {
   "cell_type": "code",
   "execution_count": 9,
   "id": "421cc374",
   "metadata": {},
   "outputs": [
    {
     "name": "stdout",
     "output_type": "stream",
     "text": [
      "0    56\n",
      "1    45\n",
      "2    35\n",
      "3    41\n",
      "4    60\n",
      "5    57\n",
      "6    56\n",
      "7    56\n",
      "dtype: int64\n",
      "406\n"
     ]
    }
   ],
   "source": [
    "marks = [56, 45, 35, 41, 60, 57, 56, 56] \n",
    "s = pd.Series(marks) \n",
    "print(s) \n",
    "print(s.sum())"
   ]
  },
  {
   "cell_type": "code",
   "execution_count": 10,
   "id": "e221dd6f",
   "metadata": {},
   "outputs": [
    {
     "name": "stdout",
     "output_type": "stream",
     "text": [
      "0    56.0\n",
      "1    45.0\n",
      "2    35.0\n",
      "3    41.0\n",
      "4     NaN\n",
      "5    60.0\n",
      "6     NaN\n",
      "dtype: float64\n",
      "237.0\n"
     ]
    }
   ],
   "source": [
    "marks = [56, 45, 35, 41, np.nan, 60, np.nan] \n",
    "s = pd.Series(marks) \n",
    "print(s) \n",
    "print(s.sum())"
   ]
  },
  {
   "cell_type": "markdown",
   "id": "0f6bfa48",
   "metadata": {},
   "source": [
    "#### 4.count()\n",
    "This method returns the number of non-NAN/null values. "
   ]
  },
  {
   "cell_type": "code",
   "execution_count": 11,
   "id": "78d45074",
   "metadata": {},
   "outputs": [
    {
     "name": "stdout",
     "output_type": "stream",
     "text": [
      "0    56.0\n",
      "1    45.0\n",
      "2    35.0\n",
      "3    41.0\n",
      "4     NaN\n",
      "5    60.0\n",
      "6     NaN\n",
      "dtype: float64\n",
      "5\n"
     ]
    }
   ],
   "source": [
    "marks = [56, 45, 35, 41, np.nan, 60, np.nan] \n",
    "s = pd.Series(marks) \n",
    "print(s) \n",
    "print(s.count())"
   ]
  },
  {
   "cell_type": "markdown",
   "id": "8a7d2baa",
   "metadata": {},
   "source": [
    "#### 5.mean()\n",
    "This method returns the mean of series of values."
   ]
  },
  {
   "cell_type": "code",
   "execution_count": 12,
   "id": "a85ac441",
   "metadata": {},
   "outputs": [
    {
     "name": "stdout",
     "output_type": "stream",
     "text": [
      "0    56\n",
      "1    45\n",
      "2    35\n",
      "3    41\n",
      "4    60\n",
      "5    57\n",
      "6    56\n",
      "7    56\n",
      "dtype: int64\n",
      "50.75\n"
     ]
    }
   ],
   "source": [
    "marks = [56, 45, 35, 41, 60, 57, 56, 56] \n",
    "s = pd.Series(marks) \n",
    "print(s) \n",
    "print(s.mean())"
   ]
  },
  {
   "cell_type": "markdown",
   "id": "c5e386dd",
   "metadata": {},
   "source": [
    "#### 6.describe()\n",
    "This method returns the below values, \n",
    "o count \n",
    "o mean  \n",
    "o std \n",
    "o min \n",
    "o 25% \n",
    "o 50% \n",
    "o 75% \n",
    "o max"
   ]
  },
  {
   "cell_type": "code",
   "execution_count": 13,
   "id": "174c41dc",
   "metadata": {},
   "outputs": [
    {
     "name": "stdout",
     "output_type": "stream",
     "text": [
      "0    56\n",
      "1    45\n",
      "2    35\n",
      "3    41\n",
      "4    60\n",
      "5    57\n",
      "6    56\n",
      "7    56\n",
      "dtype: int64\n",
      "count     8.000000\n",
      "mean     50.750000\n",
      "std       9.130013\n",
      "min      35.000000\n",
      "25%      44.000000\n",
      "50%      56.000000\n",
      "75%      56.250000\n",
      "max      60.000000\n",
      "dtype: float64\n"
     ]
    }
   ],
   "source": [
    "marks = [56, 45, 35, 41, 60, 57, 56, 56] \n",
    "s = pd.Series(marks) \n",
    "print(s) \n",
    "print(s.describe())"
   ]
  },
  {
   "cell_type": "markdown",
   "id": "0b2c0423",
   "metadata": {},
   "source": [
    "#### 7.unique()\n",
    "This method returns unique values from the series."
   ]
  },
  {
   "cell_type": "code",
   "execution_count": 14,
   "id": "3d9e1d86",
   "metadata": {},
   "outputs": [
    {
     "name": "stdout",
     "output_type": "stream",
     "text": [
      "0    56\n",
      "1    45\n",
      "2    35\n",
      "3    41\n",
      "4    60\n",
      "5    57\n",
      "6    56\n",
      "7    56\n",
      "dtype: int64\n",
      "[56 45 35 41 60 57]\n"
     ]
    }
   ],
   "source": [
    "marks = [56, 45, 35, 41, 60, 57, 56, 56] \n",
    "s = pd.Series(marks) \n",
    "print(s) \n",
    "print(s.unique()) "
   ]
  },
  {
   "cell_type": "markdown",
   "id": "d445060e",
   "metadata": {},
   "source": [
    "#### 8.nunique()\n",
    "This method returns number of unique values from the series."
   ]
  },
  {
   "cell_type": "code",
   "execution_count": 15,
   "id": "2c640731",
   "metadata": {},
   "outputs": [
    {
     "name": "stdout",
     "output_type": "stream",
     "text": [
      "0    56\n",
      "1    45\n",
      "2    35\n",
      "3    41\n",
      "4    60\n",
      "5    57\n",
      "6    56\n",
      "7    56\n",
      "dtype: int64\n",
      "6\n"
     ]
    }
   ],
   "source": [
    "marks = [56, 45, 35, 41, 60, 57, 56, 56] \n",
    "s = pd.Series(marks) \n",
    "print(s) \n",
    "print(s.nunique())"
   ]
  }
 ],
 "metadata": {
  "kernelspec": {
   "display_name": "Python 3",
   "language": "python",
   "name": "python3"
  },
  "language_info": {
   "codemirror_mode": {
    "name": "ipython",
    "version": 3
   },
   "file_extension": ".py",
   "mimetype": "text/x-python",
   "name": "python",
   "nbconvert_exporter": "python",
   "pygments_lexer": "ipython3",
   "version": "3.11.3"
  }
 },
 "nbformat": 4,
 "nbformat_minor": 5
}
