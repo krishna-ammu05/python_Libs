{
 "cells": [
  {
   "cell_type": "markdown",
   "id": "9d20feb9",
   "metadata": {},
   "source": [
    "## NaN(Not a number)"
   ]
  },
  {
   "cell_type": "code",
   "execution_count": 1,
   "id": "13af1e78",
   "metadata": {},
   "outputs": [],
   "source": [
    "import numpy as np\n",
    "import pandas as pd"
   ]
  },
  {
   "cell_type": "code",
   "execution_count": 3,
   "id": "49786cdc",
   "metadata": {},
   "outputs": [
    {
     "name": "stdout",
     "output_type": "stream",
     "text": [
      "0    10\n",
      "1    20\n",
      "2    30\n",
      "3    40\n",
      "4    50\n",
      "dtype: int64\n"
     ]
    }
   ],
   "source": [
    "a =[10,20,30,40,50]\n",
    "s = pd.Series(a)\n",
    "print(s)"
   ]
  },
  {
   "cell_type": "code",
   "execution_count": 4,
   "id": "9babb169",
   "metadata": {},
   "outputs": [
    {
     "name": "stdout",
     "output_type": "stream",
     "text": [
      "0    10.0\n",
      "1    20.0\n",
      "2     NaN\n",
      "3    40.0\n",
      "4    50.0\n",
      "dtype: float64\n"
     ]
    }
   ],
   "source": [
    "a =[10,20,None,40,50]\n",
    "s = pd.Series(a)\n",
    "print(s)"
   ]
  },
  {
   "cell_type": "code",
   "execution_count": 5,
   "id": "7163a055",
   "metadata": {},
   "outputs": [
    {
     "name": "stdout",
     "output_type": "stream",
     "text": [
      "[10, 20, 30, 40, nan, 50]\n",
      "0    10.0\n",
      "1    20.0\n",
      "2    30.0\n",
      "3    40.0\n",
      "4     NaN\n",
      "5    50.0\n",
      "dtype: float64\n"
     ]
    }
   ],
   "source": [
    "a =[10,20,30,40, np.nan,50]\n",
    "print(a)\n",
    "s = pd.Series(a)\n",
    "print(s)"
   ]
  },
  {
   "cell_type": "markdown",
   "id": "9ef535b7",
   "metadata": {},
   "source": [
    "#### If we have str then the dtype is alos a string"
   ]
  },
  {
   "cell_type": "code",
   "execution_count": 6,
   "id": "edf3cd74",
   "metadata": {},
   "outputs": [
    {
     "name": "stdout",
     "output_type": "stream",
     "text": [
      "0      10\n",
      "1      20\n",
      "2    None\n",
      "3      40\n",
      "4       a\n",
      "5       b\n",
      "6       c\n",
      "7      50\n",
      "dtype: object\n"
     ]
    }
   ],
   "source": [
    "a =[10,20,None,40,\"a\",\"b\",\"c\",50]\n",
    "s = pd.Series(a)\n",
    "print(s)"
   ]
  },
  {
   "cell_type": "code",
   "execution_count": null,
   "id": "5a1daa20",
   "metadata": {},
   "outputs": [],
   "source": []
  }
 ],
 "metadata": {
  "kernelspec": {
   "display_name": "Python 3",
   "language": "python",
   "name": "python3"
  },
  "language_info": {
   "codemirror_mode": {
    "name": "ipython",
    "version": 3
   },
   "file_extension": ".py",
   "mimetype": "text/x-python",
   "name": "python",
   "nbconvert_exporter": "python",
   "pygments_lexer": "ipython3",
   "version": "3.11.3"
  }
 },
 "nbformat": 4,
 "nbformat_minor": 5
}
