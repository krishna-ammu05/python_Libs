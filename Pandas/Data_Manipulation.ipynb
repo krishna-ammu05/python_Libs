{
 "cells": [
  {
   "cell_type": "code",
   "execution_count": 24,
   "id": "6567818b",
   "metadata": {},
   "outputs": [],
   "source": [
    "import pandas as pd"
   ]
  },
  {
   "cell_type": "markdown",
   "id": "c67cdc6c",
   "metadata": {},
   "source": [
    "# 1. Data Exploration"
   ]
  },
  {
   "cell_type": "code",
   "execution_count": 25,
   "id": "81088434",
   "metadata": {},
   "outputs": [],
   "source": [
    "df= pd.read_csv('Files/data.csv')\n",
    "df.to_csv('out.csv', index=False)"
   ]
  },
  {
   "cell_type": "code",
   "execution_count": 26,
   "id": "8899cb94",
   "metadata": {},
   "outputs": [
    {
     "data": {
      "text/html": [
       "<div>\n",
       "<style scoped>\n",
       "    .dataframe tbody tr th:only-of-type {\n",
       "        vertical-align: middle;\n",
       "    }\n",
       "\n",
       "    .dataframe tbody tr th {\n",
       "        vertical-align: top;\n",
       "    }\n",
       "\n",
       "    .dataframe thead th {\n",
       "        text-align: right;\n",
       "    }\n",
       "</style>\n",
       "<table border=\"1\" class=\"dataframe\">\n",
       "  <thead>\n",
       "    <tr style=\"text-align: right;\">\n",
       "      <th></th>\n",
       "      <th>order_id</th>\n",
       "      <th>customer_id</th>\n",
       "      <th>order_date</th>\n",
       "      <th>product</th>\n",
       "      <th>category</th>\n",
       "      <th>quantity</th>\n",
       "      <th>unit_price</th>\n",
       "      <th>city</th>\n",
       "      <th>returned</th>\n",
       "      <th>rating</th>\n",
       "      <th>total</th>\n",
       "    </tr>\n",
       "  </thead>\n",
       "  <tbody>\n",
       "    <tr>\n",
       "      <th>0</th>\n",
       "      <td>1001</td>\n",
       "      <td>C001</td>\n",
       "      <td>2025-09-01</td>\n",
       "      <td>Widget A</td>\n",
       "      <td>Gadgets</td>\n",
       "      <td>2.0</td>\n",
       "      <td>199.99</td>\n",
       "      <td>Hyderabad</td>\n",
       "      <td>False</td>\n",
       "      <td>4.5</td>\n",
       "      <td>399.98</td>\n",
       "    </tr>\n",
       "    <tr>\n",
       "      <th>1</th>\n",
       "      <td>1002</td>\n",
       "      <td>C002</td>\n",
       "      <td>2025-09-01</td>\n",
       "      <td>Widget B</td>\n",
       "      <td>Gadgets</td>\n",
       "      <td>1.0</td>\n",
       "      <td>299.50</td>\n",
       "      <td>Hyderabad</td>\n",
       "      <td>False</td>\n",
       "      <td>5.0</td>\n",
       "      <td>299.50</td>\n",
       "    </tr>\n",
       "    <tr>\n",
       "      <th>2</th>\n",
       "      <td>1003</td>\n",
       "      <td>C003</td>\n",
       "      <td>2025-09-02</td>\n",
       "      <td>Gizmo X</td>\n",
       "      <td>Widgets</td>\n",
       "      <td>5.0</td>\n",
       "      <td>49.99</td>\n",
       "      <td>Mumbai</td>\n",
       "      <td>False</td>\n",
       "      <td>4.0</td>\n",
       "      <td>249.95</td>\n",
       "    </tr>\n",
       "    <tr>\n",
       "      <th>3</th>\n",
       "      <td>1004</td>\n",
       "      <td>C004</td>\n",
       "      <td>2025-09-03</td>\n",
       "      <td>Gizmo Y</td>\n",
       "      <td>Widgets</td>\n",
       "      <td>3.0</td>\n",
       "      <td>79.99</td>\n",
       "      <td>Delhi</td>\n",
       "      <td>True</td>\n",
       "      <td>NaN</td>\n",
       "      <td>239.97</td>\n",
       "    </tr>\n",
       "    <tr>\n",
       "      <th>4</th>\n",
       "      <td>1005</td>\n",
       "      <td>C005</td>\n",
       "      <td>2025-09-03</td>\n",
       "      <td>Widget A</td>\n",
       "      <td>Gadgets</td>\n",
       "      <td>1.0</td>\n",
       "      <td>199.99</td>\n",
       "      <td>Bengaluru</td>\n",
       "      <td>False</td>\n",
       "      <td>3.5</td>\n",
       "      <td>199.99</td>\n",
       "    </tr>\n",
       "  </tbody>\n",
       "</table>\n",
       "</div>"
      ],
      "text/plain": [
       "   order_id customer_id  order_date   product category  quantity  unit_price   \n",
       "0      1001        C001  2025-09-01  Widget A  Gadgets       2.0      199.99  \\\n",
       "1      1002        C002  2025-09-01  Widget B  Gadgets       1.0      299.50   \n",
       "2      1003        C003  2025-09-02   Gizmo X  Widgets       5.0       49.99   \n",
       "3      1004        C004  2025-09-03   Gizmo Y  Widgets       3.0       79.99   \n",
       "4      1005        C005  2025-09-03  Widget A  Gadgets       1.0      199.99   \n",
       "\n",
       "        city  returned  rating   total  \n",
       "0  Hyderabad     False     4.5  399.98  \n",
       "1  Hyderabad     False     5.0  299.50  \n",
       "2     Mumbai     False     4.0  249.95  \n",
       "3      Delhi      True     NaN  239.97  \n",
       "4  Bengaluru     False     3.5  199.99  "
      ]
     },
     "execution_count": 26,
     "metadata": {},
     "output_type": "execute_result"
    }
   ],
   "source": [
    "df.head()"
   ]
  },
  {
   "cell_type": "code",
   "execution_count": 27,
   "id": "904fdb29",
   "metadata": {},
   "outputs": [
    {
     "data": {
      "text/html": [
       "<div>\n",
       "<style scoped>\n",
       "    .dataframe tbody tr th:only-of-type {\n",
       "        vertical-align: middle;\n",
       "    }\n",
       "\n",
       "    .dataframe tbody tr th {\n",
       "        vertical-align: top;\n",
       "    }\n",
       "\n",
       "    .dataframe thead th {\n",
       "        text-align: right;\n",
       "    }\n",
       "</style>\n",
       "<table border=\"1\" class=\"dataframe\">\n",
       "  <thead>\n",
       "    <tr style=\"text-align: right;\">\n",
       "      <th></th>\n",
       "      <th>order_id</th>\n",
       "      <th>customer_id</th>\n",
       "      <th>order_date</th>\n",
       "      <th>product</th>\n",
       "      <th>category</th>\n",
       "      <th>quantity</th>\n",
       "      <th>unit_price</th>\n",
       "      <th>city</th>\n",
       "      <th>returned</th>\n",
       "      <th>rating</th>\n",
       "      <th>total</th>\n",
       "    </tr>\n",
       "  </thead>\n",
       "  <tbody>\n",
       "    <tr>\n",
       "      <th>27</th>\n",
       "      <td>1028</td>\n",
       "      <td>C027</td>\n",
       "      <td>2025-09-16</td>\n",
       "      <td>Gizmo Y</td>\n",
       "      <td>Widgets</td>\n",
       "      <td>1.0</td>\n",
       "      <td>79.99</td>\n",
       "      <td>Bengaluru</td>\n",
       "      <td>False</td>\n",
       "      <td>4.2</td>\n",
       "      <td>79.99</td>\n",
       "    </tr>\n",
       "    <tr>\n",
       "      <th>28</th>\n",
       "      <td>1029</td>\n",
       "      <td>C028</td>\n",
       "      <td>2025-09-17</td>\n",
       "      <td>Widget A</td>\n",
       "      <td>Gadgets</td>\n",
       "      <td>2.0</td>\n",
       "      <td>199.99</td>\n",
       "      <td>Hyderabad</td>\n",
       "      <td>False</td>\n",
       "      <td>4.9</td>\n",
       "      <td>399.98</td>\n",
       "    </tr>\n",
       "    <tr>\n",
       "      <th>29</th>\n",
       "      <td>1030</td>\n",
       "      <td>C029</td>\n",
       "      <td>2025-09-17</td>\n",
       "      <td>Gizmo X</td>\n",
       "      <td>Widgets</td>\n",
       "      <td>3.0</td>\n",
       "      <td>49.99</td>\n",
       "      <td>Kolkata</td>\n",
       "      <td>False</td>\n",
       "      <td>3.8</td>\n",
       "      <td>149.97</td>\n",
       "    </tr>\n",
       "    <tr>\n",
       "      <th>30</th>\n",
       "      <td>1031</td>\n",
       "      <td>C030</td>\n",
       "      <td>2025-09-18</td>\n",
       "      <td>Accessory Y</td>\n",
       "      <td>Accessories</td>\n",
       "      <td>4.0</td>\n",
       "      <td>19.99</td>\n",
       "      <td>Chennai</td>\n",
       "      <td>False</td>\n",
       "      <td>4.3</td>\n",
       "      <td>79.96</td>\n",
       "    </tr>\n",
       "    <tr>\n",
       "      <th>31</th>\n",
       "      <td>1032</td>\n",
       "      <td>C031</td>\n",
       "      <td>2025-09-18</td>\n",
       "      <td>Widget C</td>\n",
       "      <td>Gadgets</td>\n",
       "      <td>1.0</td>\n",
       "      <td>249.00</td>\n",
       "      <td>Delhi</td>\n",
       "      <td>False</td>\n",
       "      <td>4.5</td>\n",
       "      <td>249.00</td>\n",
       "    </tr>\n",
       "  </tbody>\n",
       "</table>\n",
       "</div>"
      ],
      "text/plain": [
       "    order_id customer_id  order_date      product     category  quantity   \n",
       "27      1028        C027  2025-09-16      Gizmo Y      Widgets       1.0  \\\n",
       "28      1029        C028  2025-09-17     Widget A      Gadgets       2.0   \n",
       "29      1030        C029  2025-09-17      Gizmo X      Widgets       3.0   \n",
       "30      1031        C030  2025-09-18  Accessory Y  Accessories       4.0   \n",
       "31      1032        C031  2025-09-18     Widget C      Gadgets       1.0   \n",
       "\n",
       "    unit_price       city  returned  rating   total  \n",
       "27       79.99  Bengaluru     False     4.2   79.99  \n",
       "28      199.99  Hyderabad     False     4.9  399.98  \n",
       "29       49.99    Kolkata     False     3.8  149.97  \n",
       "30       19.99    Chennai     False     4.3   79.96  \n",
       "31      249.00      Delhi     False     4.5  249.00  "
      ]
     },
     "execution_count": 27,
     "metadata": {},
     "output_type": "execute_result"
    }
   ],
   "source": [
    "#last N rows\n",
    "df.tail()"
   ]
  },
  {
   "cell_type": "code",
   "execution_count": 28,
   "id": "cbf638f1",
   "metadata": {},
   "outputs": [
    {
     "name": "stdout",
     "output_type": "stream",
     "text": [
      "<class 'pandas.core.frame.DataFrame'>\n",
      "RangeIndex: 32 entries, 0 to 31\n",
      "Data columns (total 11 columns):\n",
      " #   Column       Non-Null Count  Dtype  \n",
      "---  ------       --------------  -----  \n",
      " 0   order_id     32 non-null     int64  \n",
      " 1   customer_id  32 non-null     object \n",
      " 2   order_date   31 non-null     object \n",
      " 3   product      32 non-null     object \n",
      " 4   category     32 non-null     object \n",
      " 5   quantity     31 non-null     float64\n",
      " 6   unit_price   32 non-null     float64\n",
      " 7   city         32 non-null     object \n",
      " 8   returned     32 non-null     bool   \n",
      " 9   rating       31 non-null     float64\n",
      " 10  total        31 non-null     float64\n",
      "dtypes: bool(1), float64(4), int64(1), object(5)\n",
      "memory usage: 2.7+ KB\n"
     ]
    }
   ],
   "source": [
    "#Metadata about the info\n",
    "df.info()"
   ]
  },
  {
   "cell_type": "code",
   "execution_count": 29,
   "id": "b5588321",
   "metadata": {},
   "outputs": [
    {
     "data": {
      "text/plain": [
       "<bound method NDFrame.describe of     order_id customer_id  order_date      product     category  quantity   \n",
       "0       1001        C001  2025-09-01     Widget A      Gadgets       2.0  \\\n",
       "1       1002        C002  2025-09-01     Widget B      Gadgets       1.0   \n",
       "2       1003        C003  2025-09-02      Gizmo X      Widgets       5.0   \n",
       "3       1004        C004  2025-09-03      Gizmo Y      Widgets       3.0   \n",
       "4       1005        C005  2025-09-03     Widget A      Gadgets       1.0   \n",
       "5       1006        C002  2025-09-04  Accessory Z  Accessories      10.0   \n",
       "6       1007        C006  2025-09-05     Widget C      Gadgets       NaN   \n",
       "7       1008        C007         NaN      Gizmo X      Widgets       2.0   \n",
       "8       1009        C008  2025-09-06  Accessory Z  Accessories       4.0   \n",
       "9       1010        C009  2025-09-06     Widget A      Gadgets       2.0   \n",
       "10      1011        C010  2025/09/07      Gizmo Y      Widgets       1.0   \n",
       "11      1012        C011  2025-09-08     Widget B      Gadgets       3.0   \n",
       "12      1013        C012  2025-09-09     Widget D      Gadgets       2.0   \n",
       "13      1014        C013  2025-09-09      Gizmo X      Widgets       1.0   \n",
       "14      1015        C014  2025-09-10  Accessory Y  Accessories       5.0   \n",
       "15      1016        C015  2025-09-10     Widget B      Gadgets       2.0   \n",
       "16      1017        C016  2025-09-11      Gizmo Z      Widgets       3.0   \n",
       "17      1018        C017  2025-09-11     Widget A      Gadgets       1.0   \n",
       "18      1019        C018  2025-09-12  Accessory Z  Accessories       8.0   \n",
       "19      1020        C019  2025-09-12      Gizmo Y      Widgets       2.0   \n",
       "20      1021        C020  2025-09-13     Widget C      Gadgets       3.0   \n",
       "21      1022        C021  2025-09-13      Gizmo X      Widgets       4.0   \n",
       "22      1023        C022  2025-09-14  Accessory Y  Accessories       6.0   \n",
       "23      1024        C023  2025-09-14     Widget D      Gadgets       1.0   \n",
       "24      1025        C024  2025-09-15      Gizmo Z      Widgets       2.0   \n",
       "25      1026        C025  2025-09-15     Widget B      Gadgets       3.0   \n",
       "26      1027        C026  2025-09-16  Accessory Z  Accessories       5.0   \n",
       "27      1028        C027  2025-09-16      Gizmo Y      Widgets       1.0   \n",
       "28      1029        C028  2025-09-17     Widget A      Gadgets       2.0   \n",
       "29      1030        C029  2025-09-17      Gizmo X      Widgets       3.0   \n",
       "30      1031        C030  2025-09-18  Accessory Y  Accessories       4.0   \n",
       "31      1032        C031  2025-09-18     Widget C      Gadgets       1.0   \n",
       "\n",
       "    unit_price       city  returned  rating   total  \n",
       "0       199.99  Hyderabad     False     4.5  399.98  \n",
       "1       299.50  Hyderabad     False     5.0  299.50  \n",
       "2        49.99     Mumbai     False     4.0  249.95  \n",
       "3        79.99      Delhi      True     NaN  239.97  \n",
       "4       199.99  Bengaluru     False     3.5  199.99  \n",
       "5         9.99  Hyderabad     False     4.8   99.90  \n",
       "6       249.00    Chennai     False     4.2     NaN  \n",
       "7        49.99     Mumbai     False     4.1   99.98  \n",
       "8         9.99      Delhi      True     2.0   39.96  \n",
       "9       199.99  Hyderabad     False     4.9  399.98  \n",
       "10       79.99  Bengaluru     False     4.3   79.99  \n",
       "11      299.50    Kolkata     False     3.9  898.50  \n",
       "12      149.99    Chennai     False     4.6  299.98  \n",
       "13       49.99     Mumbai     False     4.2   49.99  \n",
       "14       19.99      Delhi     False     3.8   99.95  \n",
       "15      299.50  Bengaluru      True     4.1  599.00  \n",
       "16       59.99  Hyderabad     False     4.0  179.97  \n",
       "17      199.99    Kolkata     False     4.5  199.99  \n",
       "18        9.99    Chennai     False     4.7   79.92  \n",
       "19       79.99     Mumbai      True     3.5  159.98  \n",
       "20      249.00      Delhi     False     4.8  747.00  \n",
       "21       49.99  Bengaluru     False     4.0  199.96  \n",
       "22       19.99  Hyderabad     False     3.9  119.94  \n",
       "23      149.99    Kolkata     False     4.4  149.99  \n",
       "24       59.99    Chennai     False     4.1  119.98  \n",
       "25      299.50      Delhi      True     3.7  898.50  \n",
       "26        9.99     Mumbai     False     4.6   49.95  \n",
       "27       79.99  Bengaluru     False     4.2   79.99  \n",
       "28      199.99  Hyderabad     False     4.9  399.98  \n",
       "29       49.99    Kolkata     False     3.8  149.97  \n",
       "30       19.99    Chennai     False     4.3   79.96  \n",
       "31      249.00      Delhi     False     4.5  249.00  >"
      ]
     },
     "execution_count": 29,
     "metadata": {},
     "output_type": "execute_result"
    }
   ],
   "source": [
    "#summary Statistics\n",
    "df.describe"
   ]
  },
  {
   "cell_type": "code",
   "execution_count": 31,
   "id": "8da7cc50",
   "metadata": {},
   "outputs": [
    {
     "data": {
      "text/plain": [
       "(32, 11)"
      ]
     },
     "execution_count": 31,
     "metadata": {},
     "output_type": "execute_result"
    }
   ],
   "source": [
    "#(rows,columns)\n",
    "df.shape"
   ]
  },
  {
   "cell_type": "code",
   "execution_count": 33,
   "id": "42b8a76d",
   "metadata": {},
   "outputs": [
    {
     "data": {
      "text/plain": [
       "Index(['order_id', 'customer_id', 'order_date', 'product', 'category',\n",
       "       'quantity', 'unit_price', 'city', 'returned', 'rating', 'total'],\n",
       "      dtype='object')"
      ]
     },
     "execution_count": 33,
     "metadata": {},
     "output_type": "execute_result"
    }
   ],
   "source": [
    "#Column Names\n",
    "df.columns"
   ]
  },
  {
   "cell_type": "code",
   "execution_count": null,
   "id": "ab165f7d",
   "metadata": {},
   "outputs": [
    {
     "data": {
      "text/plain": [
       "order_id         int64\n",
       "customer_id     object\n",
       "order_date      object\n",
       "product         object\n",
       "category        object\n",
       "quantity       float64\n",
       "unit_price     float64\n",
       "city            object\n",
       "returned          bool\n",
       "rating         float64\n",
       "total          float64\n",
       "dtype: object"
      ]
     },
     "execution_count": 32,
     "metadata": {},
     "output_type": "execute_result"
    }
   ],
   "source": [
    "#Column data types\n",
    "df.dtypes\n"
   ]
  },
  {
   "cell_type": "code",
   "execution_count": 39,
   "id": "503a4721",
   "metadata": {},
   "outputs": [
    {
     "data": {
      "text/plain": [
       "2"
      ]
     },
     "execution_count": 39,
     "metadata": {},
     "output_type": "execute_result"
    }
   ],
   "source": [
    "df.index\n",
    "#Get total number of elements\n",
    "df.size\n",
    "#Get number of dimensions\n",
    "df.ndim"
   ]
  },
  {
   "cell_type": "code",
   "execution_count": null,
   "id": "0f432af9",
   "metadata": {},
   "outputs": [
    {
     "data": {
      "text/plain": [
       "352"
      ]
     },
     "execution_count": 37,
     "metadata": {},
     "output_type": "execute_result"
    }
   ],
   "source": [
    "#Get total number of elements\n",
    "df.size"
   ]
  },
  {
   "cell_type": "code",
   "execution_count": 38,
   "id": "26bb53d0",
   "metadata": {},
   "outputs": [
    {
     "data": {
      "text/plain": [
       "2"
      ]
     },
     "execution_count": 38,
     "metadata": {},
     "output_type": "execute_result"
    }
   ],
   "source": [
    "#Get number of dimensions\n",
    "df.ndim"
   ]
  },
  {
   "cell_type": "code",
   "execution_count": null,
   "id": "6f984a2b",
   "metadata": {},
   "outputs": [],
   "source": []
  },
  {
   "cell_type": "markdown",
   "id": "bebc79b4",
   "metadata": {},
   "source": [
    "# 2. Descriptive Statistics"
   ]
  },
  {
   "cell_type": "code",
   "execution_count": 41,
   "id": "3f1bc162",
   "metadata": {},
   "outputs": [
    {
     "data": {
      "text/html": [
       "<div>\n",
       "<style scoped>\n",
       "    .dataframe tbody tr th:only-of-type {\n",
       "        vertical-align: middle;\n",
       "    }\n",
       "\n",
       "    .dataframe tbody tr th {\n",
       "        vertical-align: top;\n",
       "    }\n",
       "\n",
       "    .dataframe thead th {\n",
       "        text-align: right;\n",
       "    }\n",
       "</style>\n",
       "<table border=\"1\" class=\"dataframe\">\n",
       "  <thead>\n",
       "    <tr style=\"text-align: right;\">\n",
       "      <th></th>\n",
       "      <th>order_id</th>\n",
       "      <th>quantity</th>\n",
       "      <th>unit_price</th>\n",
       "      <th>rating</th>\n",
       "      <th>total</th>\n",
       "    </tr>\n",
       "  </thead>\n",
       "  <tbody>\n",
       "    <tr>\n",
       "      <th>count</th>\n",
       "      <td>32.000000</td>\n",
       "      <td>31.000000</td>\n",
       "      <td>32.000000</td>\n",
       "      <td>31.000000</td>\n",
       "      <td>31.000000</td>\n",
       "    </tr>\n",
       "    <tr>\n",
       "      <th>mean</th>\n",
       "      <td>1016.500000</td>\n",
       "      <td>3.000000</td>\n",
       "      <td>126.085938</td>\n",
       "      <td>4.187097</td>\n",
       "      <td>255.506452</td>\n",
       "    </tr>\n",
       "    <tr>\n",
       "      <th>std</th>\n",
       "      <td>9.380832</td>\n",
       "      <td>2.144761</td>\n",
       "      <td>102.852379</td>\n",
       "      <td>0.576045</td>\n",
       "      <td>235.456184</td>\n",
       "    </tr>\n",
       "    <tr>\n",
       "      <th>min</th>\n",
       "      <td>1001.000000</td>\n",
       "      <td>1.000000</td>\n",
       "      <td>9.990000</td>\n",
       "      <td>2.000000</td>\n",
       "      <td>39.960000</td>\n",
       "    </tr>\n",
       "    <tr>\n",
       "      <th>25%</th>\n",
       "      <td>1008.750000</td>\n",
       "      <td>1.500000</td>\n",
       "      <td>49.990000</td>\n",
       "      <td>3.950000</td>\n",
       "      <td>99.925000</td>\n",
       "    </tr>\n",
       "    <tr>\n",
       "      <th>50%</th>\n",
       "      <td>1016.500000</td>\n",
       "      <td>2.000000</td>\n",
       "      <td>79.990000</td>\n",
       "      <td>4.200000</td>\n",
       "      <td>179.970000</td>\n",
       "    </tr>\n",
       "    <tr>\n",
       "      <th>75%</th>\n",
       "      <td>1024.250000</td>\n",
       "      <td>4.000000</td>\n",
       "      <td>199.990000</td>\n",
       "      <td>4.550000</td>\n",
       "      <td>299.740000</td>\n",
       "    </tr>\n",
       "    <tr>\n",
       "      <th>max</th>\n",
       "      <td>1032.000000</td>\n",
       "      <td>10.000000</td>\n",
       "      <td>299.500000</td>\n",
       "      <td>5.000000</td>\n",
       "      <td>898.500000</td>\n",
       "    </tr>\n",
       "  </tbody>\n",
       "</table>\n",
       "</div>"
      ],
      "text/plain": [
       "          order_id   quantity  unit_price     rating       total\n",
       "count    32.000000  31.000000   32.000000  31.000000   31.000000\n",
       "mean   1016.500000   3.000000  126.085938   4.187097  255.506452\n",
       "std       9.380832   2.144761  102.852379   0.576045  235.456184\n",
       "min    1001.000000   1.000000    9.990000   2.000000   39.960000\n",
       "25%    1008.750000   1.500000   49.990000   3.950000   99.925000\n",
       "50%    1016.500000   2.000000   79.990000   4.200000  179.970000\n",
       "75%    1024.250000   4.000000  199.990000   4.550000  299.740000\n",
       "max    1032.000000  10.000000  299.500000   5.000000  898.500000"
      ]
     },
     "execution_count": 41,
     "metadata": {},
     "output_type": "execute_result"
    }
   ],
   "source": [
    "#Summary statistics for numeric columns\n",
    "df.describe()"
   ]
  },
  {
   "cell_type": "code",
   "execution_count": 44,
   "id": "cb4944a8",
   "metadata": {},
   "outputs": [
    {
     "data": {
      "text/html": [
       "<div>\n",
       "<style scoped>\n",
       "    .dataframe tbody tr th:only-of-type {\n",
       "        vertical-align: middle;\n",
       "    }\n",
       "\n",
       "    .dataframe tbody tr th {\n",
       "        vertical-align: top;\n",
       "    }\n",
       "\n",
       "    .dataframe thead th {\n",
       "        text-align: right;\n",
       "    }\n",
       "</style>\n",
       "<table border=\"1\" class=\"dataframe\">\n",
       "  <thead>\n",
       "    <tr style=\"text-align: right;\">\n",
       "      <th></th>\n",
       "      <th>order_id</th>\n",
       "      <th>customer_id</th>\n",
       "      <th>order_date</th>\n",
       "      <th>product</th>\n",
       "      <th>category</th>\n",
       "      <th>quantity</th>\n",
       "      <th>unit_price</th>\n",
       "      <th>city</th>\n",
       "      <th>returned</th>\n",
       "      <th>rating</th>\n",
       "      <th>total</th>\n",
       "    </tr>\n",
       "  </thead>\n",
       "  <tbody>\n",
       "    <tr>\n",
       "      <th>count</th>\n",
       "      <td>32.000000</td>\n",
       "      <td>32</td>\n",
       "      <td>31</td>\n",
       "      <td>32</td>\n",
       "      <td>32</td>\n",
       "      <td>31.000000</td>\n",
       "      <td>32.000000</td>\n",
       "      <td>32</td>\n",
       "      <td>32</td>\n",
       "      <td>31.000000</td>\n",
       "      <td>31.000000</td>\n",
       "    </tr>\n",
       "    <tr>\n",
       "      <th>unique</th>\n",
       "      <td>NaN</td>\n",
       "      <td>31</td>\n",
       "      <td>18</td>\n",
       "      <td>9</td>\n",
       "      <td>3</td>\n",
       "      <td>NaN</td>\n",
       "      <td>NaN</td>\n",
       "      <td>6</td>\n",
       "      <td>2</td>\n",
       "      <td>NaN</td>\n",
       "      <td>NaN</td>\n",
       "    </tr>\n",
       "    <tr>\n",
       "      <th>top</th>\n",
       "      <td>NaN</td>\n",
       "      <td>C002</td>\n",
       "      <td>2025-09-01</td>\n",
       "      <td>Widget A</td>\n",
       "      <td>Gadgets</td>\n",
       "      <td>NaN</td>\n",
       "      <td>NaN</td>\n",
       "      <td>Hyderabad</td>\n",
       "      <td>False</td>\n",
       "      <td>NaN</td>\n",
       "      <td>NaN</td>\n",
       "    </tr>\n",
       "    <tr>\n",
       "      <th>freq</th>\n",
       "      <td>NaN</td>\n",
       "      <td>2</td>\n",
       "      <td>2</td>\n",
       "      <td>5</td>\n",
       "      <td>14</td>\n",
       "      <td>NaN</td>\n",
       "      <td>NaN</td>\n",
       "      <td>7</td>\n",
       "      <td>27</td>\n",
       "      <td>NaN</td>\n",
       "      <td>NaN</td>\n",
       "    </tr>\n",
       "    <tr>\n",
       "      <th>mean</th>\n",
       "      <td>1016.500000</td>\n",
       "      <td>NaN</td>\n",
       "      <td>NaN</td>\n",
       "      <td>NaN</td>\n",
       "      <td>NaN</td>\n",
       "      <td>3.000000</td>\n",
       "      <td>126.085938</td>\n",
       "      <td>NaN</td>\n",
       "      <td>NaN</td>\n",
       "      <td>4.187097</td>\n",
       "      <td>255.506452</td>\n",
       "    </tr>\n",
       "    <tr>\n",
       "      <th>std</th>\n",
       "      <td>9.380832</td>\n",
       "      <td>NaN</td>\n",
       "      <td>NaN</td>\n",
       "      <td>NaN</td>\n",
       "      <td>NaN</td>\n",
       "      <td>2.144761</td>\n",
       "      <td>102.852379</td>\n",
       "      <td>NaN</td>\n",
       "      <td>NaN</td>\n",
       "      <td>0.576045</td>\n",
       "      <td>235.456184</td>\n",
       "    </tr>\n",
       "    <tr>\n",
       "      <th>min</th>\n",
       "      <td>1001.000000</td>\n",
       "      <td>NaN</td>\n",
       "      <td>NaN</td>\n",
       "      <td>NaN</td>\n",
       "      <td>NaN</td>\n",
       "      <td>1.000000</td>\n",
       "      <td>9.990000</td>\n",
       "      <td>NaN</td>\n",
       "      <td>NaN</td>\n",
       "      <td>2.000000</td>\n",
       "      <td>39.960000</td>\n",
       "    </tr>\n",
       "    <tr>\n",
       "      <th>25%</th>\n",
       "      <td>1008.750000</td>\n",
       "      <td>NaN</td>\n",
       "      <td>NaN</td>\n",
       "      <td>NaN</td>\n",
       "      <td>NaN</td>\n",
       "      <td>1.500000</td>\n",
       "      <td>49.990000</td>\n",
       "      <td>NaN</td>\n",
       "      <td>NaN</td>\n",
       "      <td>3.950000</td>\n",
       "      <td>99.925000</td>\n",
       "    </tr>\n",
       "    <tr>\n",
       "      <th>50%</th>\n",
       "      <td>1016.500000</td>\n",
       "      <td>NaN</td>\n",
       "      <td>NaN</td>\n",
       "      <td>NaN</td>\n",
       "      <td>NaN</td>\n",
       "      <td>2.000000</td>\n",
       "      <td>79.990000</td>\n",
       "      <td>NaN</td>\n",
       "      <td>NaN</td>\n",
       "      <td>4.200000</td>\n",
       "      <td>179.970000</td>\n",
       "    </tr>\n",
       "    <tr>\n",
       "      <th>75%</th>\n",
       "      <td>1024.250000</td>\n",
       "      <td>NaN</td>\n",
       "      <td>NaN</td>\n",
       "      <td>NaN</td>\n",
       "      <td>NaN</td>\n",
       "      <td>4.000000</td>\n",
       "      <td>199.990000</td>\n",
       "      <td>NaN</td>\n",
       "      <td>NaN</td>\n",
       "      <td>4.550000</td>\n",
       "      <td>299.740000</td>\n",
       "    </tr>\n",
       "    <tr>\n",
       "      <th>max</th>\n",
       "      <td>1032.000000</td>\n",
       "      <td>NaN</td>\n",
       "      <td>NaN</td>\n",
       "      <td>NaN</td>\n",
       "      <td>NaN</td>\n",
       "      <td>10.000000</td>\n",
       "      <td>299.500000</td>\n",
       "      <td>NaN</td>\n",
       "      <td>NaN</td>\n",
       "      <td>5.000000</td>\n",
       "      <td>898.500000</td>\n",
       "    </tr>\n",
       "  </tbody>\n",
       "</table>\n",
       "</div>"
      ],
      "text/plain": [
       "           order_id customer_id  order_date   product category   quantity   \n",
       "count     32.000000          32          31        32       32  31.000000  \\\n",
       "unique          NaN          31          18         9        3        NaN   \n",
       "top             NaN        C002  2025-09-01  Widget A  Gadgets        NaN   \n",
       "freq            NaN           2           2         5       14        NaN   \n",
       "mean    1016.500000         NaN         NaN       NaN      NaN   3.000000   \n",
       "std        9.380832         NaN         NaN       NaN      NaN   2.144761   \n",
       "min     1001.000000         NaN         NaN       NaN      NaN   1.000000   \n",
       "25%     1008.750000         NaN         NaN       NaN      NaN   1.500000   \n",
       "50%     1016.500000         NaN         NaN       NaN      NaN   2.000000   \n",
       "75%     1024.250000         NaN         NaN       NaN      NaN   4.000000   \n",
       "max     1032.000000         NaN         NaN       NaN      NaN  10.000000   \n",
       "\n",
       "        unit_price       city returned     rating       total  \n",
       "count    32.000000         32       32  31.000000   31.000000  \n",
       "unique         NaN          6        2        NaN         NaN  \n",
       "top            NaN  Hyderabad    False        NaN         NaN  \n",
       "freq           NaN          7       27        NaN         NaN  \n",
       "mean    126.085938        NaN      NaN   4.187097  255.506452  \n",
       "std     102.852379        NaN      NaN   0.576045  235.456184  \n",
       "min       9.990000        NaN      NaN   2.000000   39.960000  \n",
       "25%      49.990000        NaN      NaN   3.950000   99.925000  \n",
       "50%      79.990000        NaN      NaN   4.200000  179.970000  \n",
       "75%     199.990000        NaN      NaN   4.550000  299.740000  \n",
       "max     299.500000        NaN      NaN   5.000000  898.500000  "
      ]
     },
     "execution_count": 44,
     "metadata": {},
     "output_type": "execute_result"
    }
   ],
   "source": [
    "#Include categorical columns too\n",
    "df.describe(include='all')\n"
   ]
  },
  {
   "cell_type": "code",
   "execution_count": 50,
   "id": "91b4dc0c",
   "metadata": {},
   "outputs": [
    {
     "data": {
      "text/plain": [
       "order_id      1016.500000\n",
       "quantity         3.000000\n",
       "unit_price     126.085938\n",
       "returned         0.156250\n",
       "rating           4.187097\n",
       "total          255.506452\n",
       "dtype: float64"
      ]
     },
     "execution_count": 50,
     "metadata": {},
     "output_type": "execute_result"
    }
   ],
   "source": [
    "#Mean of numeric columns\n",
    "df.mean(numeric_only=True)"
   ]
  },
  {
   "cell_type": "code",
   "execution_count": 51,
   "id": "77370091",
   "metadata": {},
   "outputs": [
    {
     "data": {
      "text/plain": [
       "order_id      1016.50\n",
       "quantity         2.00\n",
       "unit_price      79.99\n",
       "returned         0.00\n",
       "rating           4.20\n",
       "total          179.97\n",
       "dtype: float64"
      ]
     },
     "execution_count": 51,
     "metadata": {},
     "output_type": "execute_result"
    }
   ],
   "source": [
    "#Median of numeric columns\n",
    "df.median(numeric_only=True)"
   ]
  },
  {
   "cell_type": "code",
   "execution_count": 52,
   "id": "36f0a3ad",
   "metadata": {},
   "outputs": [
    {
     "data": {
      "text/plain": [
       "order_id       1001\n",
       "quantity        1.0\n",
       "unit_price     9.99\n",
       "returned      False\n",
       "rating          2.0\n",
       "total         39.96\n",
       "dtype: object"
      ]
     },
     "execution_count": 52,
     "metadata": {},
     "output_type": "execute_result"
    }
   ],
   "source": [
    "#Minimum / Maximum values\n",
    "df.min(numeric_only=True)"
   ]
  },
  {
   "cell_type": "code",
   "execution_count": 54,
   "id": "610649dc",
   "metadata": {},
   "outputs": [
    {
     "data": {
      "text/plain": [
       "order_id       1032\n",
       "quantity       10.0\n",
       "unit_price    299.5\n",
       "returned       True\n",
       "rating          5.0\n",
       "total         898.5\n",
       "dtype: object"
      ]
     },
     "execution_count": 54,
     "metadata": {},
     "output_type": "execute_result"
    }
   ],
   "source": [
    "df.max(numeric_only=True)"
   ]
  },
  {
   "cell_type": "code",
   "execution_count": 53,
   "id": "7f665841",
   "metadata": {},
   "outputs": [
    {
     "data": {
      "text/plain": [
       "order_id        9.380832\n",
       "quantity        2.144761\n",
       "unit_price    102.852379\n",
       "returned        0.368902\n",
       "rating          0.576045\n",
       "total         235.456184\n",
       "dtype: float64"
      ]
     },
     "execution_count": 53,
     "metadata": {},
     "output_type": "execute_result"
    }
   ],
   "source": [
    "#Standard Deviation\n",
    "df.std(numeric_only=True)"
   ]
  },
  {
   "cell_type": "code",
   "execution_count": 55,
   "id": "6ef9a749",
   "metadata": {},
   "outputs": [
    {
     "data": {
      "text/plain": [
       "order_id         88.000000\n",
       "quantity          4.600000\n",
       "unit_price    10578.611812\n",
       "returned          0.136089\n",
       "rating            0.331828\n",
       "total         55439.614570\n",
       "dtype: float64"
      ]
     },
     "execution_count": 55,
     "metadata": {},
     "output_type": "execute_result"
    }
   ],
   "source": [
    "df.var(numeric_only=True)"
   ]
  },
  {
   "cell_type": "code",
   "execution_count": 56,
   "id": "8e384ed9",
   "metadata": {},
   "outputs": [
    {
     "data": {
      "text/plain": [
       "order_id       32\n",
       "customer_id    32\n",
       "order_date     31\n",
       "product        32\n",
       "category       32\n",
       "quantity       31\n",
       "unit_price     32\n",
       "city           32\n",
       "returned       32\n",
       "rating         31\n",
       "total          31\n",
       "dtype: int64"
      ]
     },
     "execution_count": 56,
     "metadata": {},
     "output_type": "execute_result"
    }
   ],
   "source": [
    "#Count of non-null values per column\n",
    "df.count()"
   ]
  },
  {
   "cell_type": "code",
   "execution_count": 57,
   "id": "ceb9d6fd",
   "metadata": {},
   "outputs": [
    {
     "data": {
      "text/plain": [
       "order_id       32\n",
       "customer_id    31\n",
       "order_date     18\n",
       "product         9\n",
       "category        3\n",
       "quantity        8\n",
       "unit_price      9\n",
       "city            6\n",
       "returned        2\n",
       "rating         16\n",
       "total          26\n",
       "dtype: int64"
      ]
     },
     "execution_count": 57,
     "metadata": {},
     "output_type": "execute_result"
    }
   ],
   "source": [
    "#Number of unique values per column\n",
    "df.nunique()\n"
   ]
  },
  {
   "cell_type": "code",
   "execution_count": 59,
   "id": "41e9e1e7",
   "metadata": {},
   "outputs": [
    {
     "data": {
      "text/html": [
       "<div>\n",
       "<style scoped>\n",
       "    .dataframe tbody tr th:only-of-type {\n",
       "        vertical-align: middle;\n",
       "    }\n",
       "\n",
       "    .dataframe tbody tr th {\n",
       "        vertical-align: top;\n",
       "    }\n",
       "\n",
       "    .dataframe thead th {\n",
       "        text-align: right;\n",
       "    }\n",
       "</style>\n",
       "<table border=\"1\" class=\"dataframe\">\n",
       "  <thead>\n",
       "    <tr style=\"text-align: right;\">\n",
       "      <th></th>\n",
       "      <th>order_id</th>\n",
       "      <th>quantity</th>\n",
       "      <th>unit_price</th>\n",
       "      <th>returned</th>\n",
       "      <th>rating</th>\n",
       "      <th>total</th>\n",
       "    </tr>\n",
       "  </thead>\n",
       "  <tbody>\n",
       "    <tr>\n",
       "      <th>order_id</th>\n",
       "      <td>1.000000</td>\n",
       "      <td>-5.306809e-02</td>\n",
       "      <td>-0.110849</td>\n",
       "      <td>-0.069911</td>\n",
       "      <td>5.981513e-02</td>\n",
       "      <td>-0.030072</td>\n",
       "    </tr>\n",
       "    <tr>\n",
       "      <th>quantity</th>\n",
       "      <td>-0.053068</td>\n",
       "      <td>1.000000e+00</td>\n",
       "      <td>-0.523441</td>\n",
       "      <td>-0.041569</td>\n",
       "      <td>-3.115234e-16</td>\n",
       "      <td>-0.166169</td>\n",
       "    </tr>\n",
       "    <tr>\n",
       "      <th>unit_price</th>\n",
       "      <td>-0.110849</td>\n",
       "      <td>-5.234414e-01</td>\n",
       "      <td>1.000000</td>\n",
       "      <td>0.117785</td>\n",
       "      <td>2.583309e-01</td>\n",
       "      <td>0.810873</td>\n",
       "    </tr>\n",
       "    <tr>\n",
       "      <th>returned</th>\n",
       "      <td>-0.069911</td>\n",
       "      <td>-4.156900e-02</td>\n",
       "      <td>0.117785</td>\n",
       "      <td>1.000000</td>\n",
       "      <td>-5.855552e-01</td>\n",
       "      <td>0.249863</td>\n",
       "    </tr>\n",
       "    <tr>\n",
       "      <th>rating</th>\n",
       "      <td>0.059815</td>\n",
       "      <td>-3.115234e-16</td>\n",
       "      <td>0.258331</td>\n",
       "      <td>-0.585555</td>\n",
       "      <td>1.000000e+00</td>\n",
       "      <td>0.119996</td>\n",
       "    </tr>\n",
       "    <tr>\n",
       "      <th>total</th>\n",
       "      <td>-0.030072</td>\n",
       "      <td>-1.661686e-01</td>\n",
       "      <td>0.810873</td>\n",
       "      <td>0.249863</td>\n",
       "      <td>1.199964e-01</td>\n",
       "      <td>1.000000</td>\n",
       "    </tr>\n",
       "  </tbody>\n",
       "</table>\n",
       "</div>"
      ],
      "text/plain": [
       "            order_id      quantity  unit_price  returned        rating   \n",
       "order_id    1.000000 -5.306809e-02   -0.110849 -0.069911  5.981513e-02  \\\n",
       "quantity   -0.053068  1.000000e+00   -0.523441 -0.041569 -3.115234e-16   \n",
       "unit_price -0.110849 -5.234414e-01    1.000000  0.117785  2.583309e-01   \n",
       "returned   -0.069911 -4.156900e-02    0.117785  1.000000 -5.855552e-01   \n",
       "rating      0.059815 -3.115234e-16    0.258331 -0.585555  1.000000e+00   \n",
       "total      -0.030072 -1.661686e-01    0.810873  0.249863  1.199964e-01   \n",
       "\n",
       "               total  \n",
       "order_id   -0.030072  \n",
       "quantity   -0.166169  \n",
       "unit_price  0.810873  \n",
       "returned    0.249863  \n",
       "rating      0.119996  \n",
       "total       1.000000  "
      ]
     },
     "execution_count": 59,
     "metadata": {},
     "output_type": "execute_result"
    }
   ],
   "source": [
    "#Correlation matrix for numeric columns\n",
    "df.corr(numeric_only=True)"
   ]
  },
  {
   "cell_type": "code",
   "execution_count": 60,
   "id": "868b819c",
   "metadata": {},
   "outputs": [
    {
     "data": {
      "text/html": [
       "<div>\n",
       "<style scoped>\n",
       "    .dataframe tbody tr th:only-of-type {\n",
       "        vertical-align: middle;\n",
       "    }\n",
       "\n",
       "    .dataframe tbody tr th {\n",
       "        vertical-align: top;\n",
       "    }\n",
       "\n",
       "    .dataframe thead th {\n",
       "        text-align: right;\n",
       "    }\n",
       "</style>\n",
       "<table border=\"1\" class=\"dataframe\">\n",
       "  <thead>\n",
       "    <tr style=\"text-align: right;\">\n",
       "      <th></th>\n",
       "      <th>order_id</th>\n",
       "      <th>quantity</th>\n",
       "      <th>unit_price</th>\n",
       "      <th>returned</th>\n",
       "      <th>rating</th>\n",
       "      <th>total</th>\n",
       "    </tr>\n",
       "  </thead>\n",
       "  <tbody>\n",
       "    <tr>\n",
       "      <th>order_id</th>\n",
       "      <td>88.000000</td>\n",
       "      <td>-1.066667e+00</td>\n",
       "      <td>-106.951452</td>\n",
       "      <td>-0.241935</td>\n",
       "      <td>3.187097e-01</td>\n",
       "      <td>-66.358043</td>\n",
       "    </tr>\n",
       "    <tr>\n",
       "      <th>quantity</th>\n",
       "      <td>-1.066667</td>\n",
       "      <td>4.600000e+00</td>\n",
       "      <td>-114.551667</td>\n",
       "      <td>-0.033333</td>\n",
       "      <td>-3.981489e-16</td>\n",
       "      <td>-83.914667</td>\n",
       "    </tr>\n",
       "    <tr>\n",
       "      <th>unit_price</th>\n",
       "      <td>-106.951452</td>\n",
       "      <td>-1.145517e+02</td>\n",
       "      <td>10578.611812</td>\n",
       "      <td>4.469042</td>\n",
       "      <td>1.550637e+01</td>\n",
       "      <td>19481.270294</td>\n",
       "    </tr>\n",
       "    <tr>\n",
       "      <th>returned</th>\n",
       "      <td>-0.241935</td>\n",
       "      <td>-3.333333e-02</td>\n",
       "      <td>4.469042</td>\n",
       "      <td>0.136089</td>\n",
       "      <td>-1.149462e-01</td>\n",
       "      <td>21.995925</td>\n",
       "    </tr>\n",
       "    <tr>\n",
       "      <th>rating</th>\n",
       "      <td>0.318710</td>\n",
       "      <td>-3.981489e-16</td>\n",
       "      <td>15.506372</td>\n",
       "      <td>-0.114946</td>\n",
       "      <td>3.318280e-01</td>\n",
       "      <td>16.835336</td>\n",
       "    </tr>\n",
       "    <tr>\n",
       "      <th>total</th>\n",
       "      <td>-66.358043</td>\n",
       "      <td>-8.391467e+01</td>\n",
       "      <td>19481.270294</td>\n",
       "      <td>21.995925</td>\n",
       "      <td>1.683534e+01</td>\n",
       "      <td>55439.614570</td>\n",
       "    </tr>\n",
       "  </tbody>\n",
       "</table>\n",
       "</div>"
      ],
      "text/plain": [
       "              order_id      quantity    unit_price   returned        rating   \n",
       "order_id     88.000000 -1.066667e+00   -106.951452  -0.241935  3.187097e-01  \\\n",
       "quantity     -1.066667  4.600000e+00   -114.551667  -0.033333 -3.981489e-16   \n",
       "unit_price -106.951452 -1.145517e+02  10578.611812   4.469042  1.550637e+01   \n",
       "returned     -0.241935 -3.333333e-02      4.469042   0.136089 -1.149462e-01   \n",
       "rating        0.318710 -3.981489e-16     15.506372  -0.114946  3.318280e-01   \n",
       "total       -66.358043 -8.391467e+01  19481.270294  21.995925  1.683534e+01   \n",
       "\n",
       "                   total  \n",
       "order_id      -66.358043  \n",
       "quantity      -83.914667  \n",
       "unit_price  19481.270294  \n",
       "returned       21.995925  \n",
       "rating         16.835336  \n",
       "total       55439.614570  "
      ]
     },
     "execution_count": 60,
     "metadata": {},
     "output_type": "execute_result"
    }
   ],
   "source": [
    "#Covariance matrix for numeric columns\n",
    "df.cov(numeric_only=True)"
   ]
  },
  {
   "cell_type": "code",
   "execution_count": 62,
   "id": "35fd844d",
   "metadata": {},
   "outputs": [
    {
     "data": {
      "text/plain": [
       "order_id      0.000000\n",
       "quantity      1.625243\n",
       "unit_price    0.488981\n",
       "returned      1.987881\n",
       "rating       -1.735228\n",
       "total         1.721591\n",
       "dtype: float64"
      ]
     },
     "execution_count": 62,
     "metadata": {},
     "output_type": "execute_result"
    }
   ],
   "source": [
    "#Skewness of numeric columns\n",
    "df.skew(numeric_only=True)"
   ]
  },
  {
   "cell_type": "code",
   "execution_count": null,
   "id": "812e460e",
   "metadata": {},
   "outputs": [],
   "source": []
  }
 ],
 "metadata": {
  "kernelspec": {
   "display_name": "Python 3",
   "language": "python",
   "name": "python3"
  },
  "language_info": {
   "codemirror_mode": {
    "name": "ipython",
    "version": 3
   },
   "file_extension": ".py",
   "mimetype": "text/x-python",
   "name": "python",
   "nbconvert_exporter": "python",
   "pygments_lexer": "ipython3",
   "version": "3.11.3"
  }
 },
 "nbformat": 4,
 "nbformat_minor": 5
}
