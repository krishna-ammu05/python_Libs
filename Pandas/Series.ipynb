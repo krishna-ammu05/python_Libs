{
 "cells": [
  {
   "cell_type": "markdown",
   "id": "ffacbb11",
   "metadata": {},
   "source": [
    " Creating a SERIES"
   ]
  },
  {
   "cell_type": "markdown",
   "id": "a00b2275",
   "metadata": {},
   "source": [
    "### 1. Empty Series\n"
   ]
  },
  {
   "cell_type": "code",
   "execution_count": 13,
   "id": "08f5ab20",
   "metadata": {},
   "outputs": [
    {
     "name": "stdout",
     "output_type": "stream",
     "text": [
      "<class 'pandas.core.series.Series'>\n"
     ]
    }
   ],
   "source": [
    "import pandas as pd\n",
    "#why pd means series is inside the pandas\n",
    "s = pd.Series\n",
    "print(s)"
   ]
  },
  {
   "cell_type": "code",
   "execution_count": 14,
   "id": "1352cd7c",
   "metadata": {},
   "outputs": [
    {
     "name": "stdout",
     "output_type": "stream",
     "text": [
      "<class 'pandas.core.series.Series'>\n"
     ]
    }
   ],
   "source": [
    "from pandas import Series\n",
    "s = Series\n",
    "print(s)"
   ]
  },
  {
   "cell_type": "markdown",
   "id": "d450ee07",
   "metadata": {},
   "source": [
    "### 2. Creating by using the list"
   ]
  },
  {
   "cell_type": "code",
   "execution_count": 15,
   "id": "b8f18c29",
   "metadata": {},
   "outputs": [
    {
     "name": "stdout",
     "output_type": "stream",
     "text": [
      "[10, 20, 30, 40]\n",
      "0    10\n",
      "1    20\n",
      "2    30\n",
      "3    40\n",
      "dtype: int64\n",
      "['A', 'B', 'C', 'D']\n",
      "0    10\n",
      "1    20\n",
      "2    30\n",
      "3    40\n",
      "dtype: int64\n",
      "[10.1, 0, 20, 'abc', 'p']\n",
      "0    10.1\n",
      "1       0\n",
      "2      20\n",
      "3     abc\n",
      "4       p\n",
      "dtype: object\n"
     ]
    }
   ],
   "source": [
    "a =[ 10,20,30,40]\n",
    "s = pd.Series(a)\n",
    "print(a)\n",
    "print(s)\n",
    "\n",
    "b=[ 'A','B','C','D']\n",
    "s1 = pd.Series(a)\n",
    "print(b)\n",
    "print(s1)\n",
    "\n",
    "c =[10.1,0,20,'abc','p']\n",
    "s2=pd.Series(c)\n",
    "print(c)\n",
    "print(s2)"
   ]
  },
  {
   "cell_type": "markdown",
   "id": "1d181aae",
   "metadata": {},
   "source": [
    "### Giving a column Name using the keyword arugument"
   ]
  },
  {
   "cell_type": "code",
   "execution_count": 16,
   "id": "2771f6fa",
   "metadata": {},
   "outputs": [
    {
     "name": "stdout",
     "output_type": "stream",
     "text": [
      "0    10\n",
      "1    20\n",
      "2    30\n",
      "3    40\n",
      "Name: Ammu, dtype: int64\n"
     ]
    }
   ],
   "source": [
    "a =[10,20,30,40]\n",
    "s = pd.Series(a,name = \"Ammu\")\n",
    "print(s)"
   ]
  },
  {
   "cell_type": "markdown",
   "id": "6cbb5b25",
   "metadata": {},
   "source": [
    "### Positional arugument vs series"
   ]
  },
  {
   "cell_type": "code",
   "execution_count": 17,
   "id": "27305737",
   "metadata": {},
   "outputs": [
    {
     "name": "stdout",
     "output_type": "stream",
     "text": [
      "Value is: 10\n",
      "0    10\n",
      "1     2\n",
      "2     3\n",
      "3     4\n",
      "Name: marks, dtype: int64\n"
     ]
    }
   ],
   "source": [
    "def ammu(a):\n",
    "    print(\"Value is:\",a)\n",
    "ammu(a =10)\n",
    "#TypeError: ammu() got an unexpected keyword argument 'b'\n",
    "\n",
    "b=[10,2,3,4]\n",
    "s =pd.Series(b,name=\"marks\")\n",
    "print(s)\n",
    "# Series.__init__() got an unexpected keyword argument 'names'\n"
   ]
  },
  {
   "cell_type": "markdown",
   "id": "dfb6fb47",
   "metadata": {},
   "source": [
    "### creating Series object by using range and list."
   ]
  },
  {
   "cell_type": "code",
   "execution_count": 18,
   "id": "a6d44540",
   "metadata": {},
   "outputs": [
    {
     "name": "stdout",
     "output_type": "stream",
     "text": [
      "0        100\n",
      "1        101\n",
      "2        102\n",
      "3        103\n",
      "4        104\n",
      "        ... \n",
      "1895    1995\n",
      "1896    1996\n",
      "1897    1997\n",
      "1898    1998\n",
      "1899    1999\n",
      "Length: 1900, dtype: int64\n"
     ]
    }
   ],
   "source": [
    "r = range(100,2000)\n",
    "s = pd.Series(r)\n",
    "print(s)"
   ]
  },
  {
   "cell_type": "markdown",
   "id": "d7ec64b4",
   "metadata": {},
   "source": [
    "### Indexing in pandas"
   ]
  },
  {
   "cell_type": "markdown",
   "id": "32d4616c",
   "metadata": {},
   "source": [
    "##### -->Here we can customize index based on the requirement\n",
    "##### -->Index can be Duplicate"
   ]
  },
  {
   "cell_type": "code",
   "execution_count": 19,
   "id": "f8e89513",
   "metadata": {},
   "outputs": [
    {
     "name": "stdout",
     "output_type": "stream",
     "text": [
      "0    10\n",
      "1    20\n",
      "2    30\n",
      "3    40\n",
      "dtype: int64\n",
      "a    10\n",
      "b    20\n",
      "c    30\n",
      "d    40\n",
      "dtype: int64\n"
     ]
    }
   ],
   "source": [
    "a=[10,20,30,40]\n",
    "\n",
    "s= pd.Series(a)\n",
    "print(s)\n",
    "\n",
    "a1 =[10,20,30,40]\n",
    "i=['a','b','c','d']\n",
    "#ValueError: Length of values (4) does not match length of index (5)\n",
    "s =pd.Series(a,index=i)#keyword argument passing\n",
    "print(s)"
   ]
  },
  {
   "cell_type": "code",
   "execution_count": 20,
   "id": "100c7455",
   "metadata": {},
   "outputs": [
    {
     "name": "stdout",
     "output_type": "stream",
     "text": [
      "a    10\n",
      "a    20\n",
      "c    30\n",
      "d    40\n",
      "Name: names, dtype: int64\n"
     ]
    }
   ],
   "source": [
    "a1 =[10,20,30,40]\n",
    "i=['a','a','c','d']\n",
    "#ValueError: Length of values (4) does not match length of index (5)\n",
    "s =pd.Series(a,\n",
    "             index=i,\n",
    "             name = \"names\")#keyword argument passing\n",
    "print(s)"
   ]
  },
  {
   "cell_type": "markdown",
   "id": "f3399b5a",
   "metadata": {},
   "source": [
    "##### Acessing data from the series"
   ]
  },
  {
   "cell_type": "code",
   "execution_count": 27,
   "id": "d3ecfd26",
   "metadata": {},
   "outputs": [
    {
     "name": "stdout",
     "output_type": "stream",
     "text": [
      "Nokia       1000\n",
      "Samsung     2000\n",
      "Oppo        3000\n",
      "iPhone 6    4000\n",
      "Name: mobiles, dtype: int64\n",
      "-----Using Index-----------\n",
      "1000\n",
      "2000\n",
      "-------Using slicing---------\n",
      "1000\n",
      "Nokia      1000\n",
      "Samsung    2000\n",
      "Oppo       3000\n",
      "Name: mobiles, dtype: int64\n",
      "-------Ussing loop---------\n",
      "1000\n",
      "2000\n",
      "3000\n",
      "4000\n"
     ]
    }
   ],
   "source": [
    "prices = [1000, 2000, 3000, 4000] \n",
    "products = [\"Nokia\", \"Samsung\", \"Oppo\", \"iPhone 6\"] \n",
    " \n",
    "s = pd.Series(prices, name = 'mobiles', index = products ) \n",
    " \n",
    "print(s) \n",
    "print(\"-----Using Index-----------\") \n",
    "print(s[\"Nokia\"]) \n",
    "print(s[\"Samsung\"])\n",
    "print(\"-------Using slicing---------\") \n",
    "print(s[0]) \n",
    "print(s[0:3]) \n",
    "print(\"-------Ussing loop---------\") \n",
    "for value in s:\n",
    "    print(value)"
   ]
  },
  {
   "cell_type": "markdown",
   "id": "5cb361df",
   "metadata": {},
   "source": [
    "##### ->over the pandas DS we would have never apply for loop bcoz it has lot of data ..for loop takes long time.Insread of that we acn apply iloc()"
   ]
  },
  {
   "cell_type": "markdown",
   "id": "6e060f9d",
   "metadata": {},
   "source": []
  },
  {
   "cell_type": "markdown",
   "id": "a599711d",
   "metadata": {},
   "source": [
    "# 1. Data Exploration"
   ]
  },
  {
   "cell_type": "code",
   "execution_count": null,
   "id": "69dd1c53",
   "metadata": {},
   "outputs": [],
   "source": []
  }
 ],
 "metadata": {
  "kernelspec": {
   "display_name": "Python 3",
   "language": "python",
   "name": "python3"
  },
  "language_info": {
   "codemirror_mode": {
    "name": "ipython",
    "version": 3
   },
   "file_extension": ".py",
   "mimetype": "text/x-python",
   "name": "python",
   "nbconvert_exporter": "python",
   "pygments_lexer": "ipython3",
   "version": "3.11.3"
  }
 },
 "nbformat": 4,
 "nbformat_minor": 5
}
