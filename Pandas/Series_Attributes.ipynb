{
 "cells": [
  {
   "cell_type": "markdown",
   "id": "504aebea",
   "metadata": {},
   "source": [
    "#### Series Attributes"
   ]
  },
  {
   "cell_type": "code",
   "execution_count": 13,
   "id": "a804b2d0",
   "metadata": {},
   "outputs": [],
   "source": [
    "import pandas as pd"
   ]
  },
  {
   "cell_type": "markdown",
   "id": "e7033f91",
   "metadata": {},
   "source": [
    "### 1.Value Attribute"
   ]
  },
  {
   "cell_type": "code",
   "execution_count": 14,
   "id": "269c7ac8",
   "metadata": {},
   "outputs": [
    {
     "name": "stdout",
     "output_type": "stream",
     "text": [
      "0    3\n",
      "1    4\n",
      "2    5\n",
      "3    6\n",
      "4    7\n",
      "5    8\n",
      "6    9\n",
      "dtype: int64\n",
      "[3 4 5 6 7 8 9]\n"
     ]
    }
   ],
   "source": [
    "a =[3 ,4,5,6,7,8,9]\n",
    "s = pd.Series(a)\n",
    "print(s)\n",
    "print(s.values)"
   ]
  },
  {
   "cell_type": "code",
   "execution_count": 15,
   "id": "6152e2ff",
   "metadata": {},
   "outputs": [
    {
     "name": "stdout",
     "output_type": "stream",
     "text": [
      "0    krish\n",
      "1    kumar\n",
      "2    reddy\n",
      "3      sai\n",
      "dtype: object\n",
      "['krish' 'kumar' 'reddy' 'sai']\n"
     ]
    }
   ],
   "source": [
    "names=['krish','kumar','reddy','sai']\n",
    "s = pd.Series(names)\n",
    "print(s)\n",
    "print(s.values)"
   ]
  },
  {
   "cell_type": "markdown",
   "id": "a1e2a534",
   "metadata": {},
   "source": [
    "### 2.Index Attribute\n",
    "✓ We can access index attribute by using series object. \n",
    "\n",
    "✓ This attribute returns the index range like, RangeIndex(start=0, stop=6, \n",
    "step=1) \n"
   ]
  },
  {
   "cell_type": "code",
   "execution_count": 16,
   "id": "b9da01c0",
   "metadata": {},
   "outputs": [
    {
     "name": "stdout",
     "output_type": "stream",
     "text": [
      "0    3\n",
      "1    4\n",
      "2    5\n",
      "3    6\n",
      "4    7\n",
      "5    8\n",
      "6    9\n",
      "dtype: int64\n",
      "RangeIndex(start=0, stop=7, step=1)\n"
     ]
    }
   ],
   "source": [
    "a =[3 ,4,5,6,7,8,9]\n",
    "s = pd.Series(a)\n",
    "print(s)\n",
    "print(s.index)"
   ]
  },
  {
   "cell_type": "code",
   "execution_count": 17,
   "id": "d0948e30",
   "metadata": {},
   "outputs": [
    {
     "name": "stdout",
     "output_type": "stream",
     "text": [
      "11    3\n",
      "22    4\n",
      "33    5\n",
      "44    6\n",
      "55    7\n",
      "66    8\n",
      "77    9\n",
      "dtype: int64\n",
      "Index([11, 22, 33, 44, 55, 66, 77], dtype='int64')\n"
     ]
    }
   ],
   "source": [
    "a =[3 ,4,5,6,7,8,9]\n",
    "i=[11,22,33,44,55,66,77]\n",
    "s = pd.Series(a,index=i)\n",
    "print(s)\n",
    "print(s.index)"
   ]
  },
  {
   "cell_type": "markdown",
   "id": "5d782c64",
   "metadata": {},
   "source": [
    "### 3.dtypes Attribute"
   ]
  },
  {
   "cell_type": "code",
   "execution_count": 18,
   "id": "1dd0811f",
   "metadata": {},
   "outputs": [
    {
     "name": "stdout",
     "output_type": "stream",
     "text": [
      "int64\n"
     ]
    }
   ],
   "source": [
    "marks = [56, 45, 35, 41, 44, 60] \n",
    "s = pd.Series(marks) \n",
    "print(s.dtypes)"
   ]
  },
  {
   "cell_type": "code",
   "execution_count": 19,
   "id": "a138db88",
   "metadata": {},
   "outputs": [
    {
     "name": "stdout",
     "output_type": "stream",
     "text": [
      "float64\n"
     ]
    }
   ],
   "source": [
    "salaries = [1000.23, 1100.45, 8889.7, 999.87] \n",
    "s = pd.Series(salaries) \n",
    "print(s.dtypes)"
   ]
  },
  {
   "cell_type": "markdown",
   "id": "a01ee104",
   "metadata": {},
   "source": [
    "#### 4.size Attribute\n",
    "✓ This attribute returns number of values in series."
   ]
  },
  {
   "cell_type": "code",
   "execution_count": 20,
   "id": "81266c2d",
   "metadata": {},
   "outputs": [
    {
     "name": "stdout",
     "output_type": "stream",
     "text": [
      "0    1000.23\n",
      "1    1100.45\n",
      "2    8889.70\n",
      "3     999.87\n",
      "dtype: float64\n",
      "4\n"
     ]
    }
   ],
   "source": [
    "salaries = [1000.23, 1100.45, 8889.7, 999.87] \n",
    "s = pd.Series(salaries) \n",
    "print(s)\n",
    "print(s.size)"
   ]
  }
 ],
 "metadata": {
  "kernelspec": {
   "display_name": "Python 3",
   "language": "python",
   "name": "python3"
  },
  "language_info": {
   "codemirror_mode": {
    "name": "ipython",
    "version": 3
   },
   "file_extension": ".py",
   "mimetype": "text/x-python",
   "name": "python",
   "nbconvert_exporter": "python",
   "pygments_lexer": "ipython3",
   "version": "3.11.3"
  }
 },
 "nbformat": 4,
 "nbformat_minor": 5
}
