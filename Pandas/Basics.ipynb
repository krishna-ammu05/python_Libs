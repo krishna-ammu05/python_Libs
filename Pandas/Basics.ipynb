{
 "cells": [
  {
   "cell_type": "code",
   "execution_count": 1,
   "id": "ec130ee7",
   "metadata": {},
   "outputs": [
    {
     "name": "stdout",
     "output_type": "stream",
     "text": [
      "Defaulting to user installation because normal site-packages is not writeable\n",
      "Requirement already satisfied: lxml in c:\\users\\krish\\appdata\\roaming\\python\\python311\\site-packages (6.0.2)\n"
     ]
    }
   ],
   "source": [
    "!pip install lxml"
   ]
  },
  {
   "cell_type": "markdown",
   "id": "65feea7c",
   "metadata": {},
   "source": [
    "Importing Libraries"
   ]
  },
  {
   "cell_type": "code",
   "execution_count": 2,
   "id": "29907fd9",
   "metadata": {},
   "outputs": [],
   "source": [
    "import pandas as pd\n",
    "import lxml"
   ]
  },
  {
   "cell_type": "markdown",
   "id": "39c31ce8",
   "metadata": {},
   "source": [
    "# 1. Data Input/Output"
   ]
  },
  {
   "cell_type": "code",
   "execution_count": 14,
   "id": "d4d5db6d",
   "metadata": {},
   "outputs": [],
   "source": [
    "#pd.read_csv(filepath, sep=',', header='infer', index_col=None)\n",
    "\n",
    "\n",
    "df = pd.read_csv('Files/data.csv')\n",
    "df = pd.read_table('Files/data.txt', delimiter='\\t')\n",
    "df = pd.read_json('Files/data.json')\n",
    "df = pd.read_html('Files/data.html', header=0)\n"
   ]
  },
  {
   "cell_type": "code",
   "execution_count": 16,
   "id": "fca9e35a",
   "metadata": {},
   "outputs": [],
   "source": [
    "\n",
    "dfs = pd.read_html('Files/data.html', header=0)\n",
    "df = dfs[0]  # Get the first DataFrame\n",
    "\n",
    "df.to_csv('out.csv', index=False)\n",
    "df.to_csv('out.txt', sep='\\t', index=False)\n",
    "df.to_json('out.json', orient='records', lines=True)\n",
    "df.to_html('out_html', index=False)\n"
   ]
  },
  {
   "cell_type": "markdown",
   "id": "60d45b3f",
   "metadata": {},
   "source": [
    "# 1. Data Exploration"
   ]
  },
  {
   "cell_type": "markdown",
   "id": "cf339893",
   "metadata": {},
   "source": []
  }
 ],
 "metadata": {
  "kernelspec": {
   "display_name": "Python 3",
   "language": "python",
   "name": "python3"
  },
  "language_info": {
   "codemirror_mode": {
    "name": "ipython",
    "version": 3
   },
   "file_extension": ".py",
   "mimetype": "text/x-python",
   "name": "python",
   "nbconvert_exporter": "python",
   "pygments_lexer": "ipython3",
   "version": "3.11.3"
  }
 },
 "nbformat": 4,
 "nbformat_minor": 5
}
